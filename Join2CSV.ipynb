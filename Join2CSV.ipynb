{
 "metadata": {
  "name": "",
  "signature": "sha256:f0156b3bef60fa15839c271ab6c10aa3a3dd7e3e38fe23abea1deac4fa55c4c3"
 },
 "nbformat": 3,
 "nbformat_minor": 0,
 "worksheets": [
  {
   "cells": [
    {
     "cell_type": "code",
     "collapsed": false,
     "input": [
      "# -----------------------------------------------------------------------------\n",
      "# Author: Baburao Kamble\n",
      "# Date: 10/12/2014\n",
      "# Purpose:Batch Processing to Join two CSV   \n",
      "# -----------------------------------------------------------------------------"
     ],
     "language": "python",
     "metadata": {},
     "outputs": []
    },
    {
     "cell_type": "code",
     "collapsed": false,
     "input": [
      "import numpy, os, re\n",
      "from itertools import izip\n",
      "import csv\n",
      "os.chdir('H:/Analysis/')"
     ],
     "language": "python",
     "metadata": {},
     "outputs": [],
     "prompt_number": 1
    },
    {
     "cell_type": "code",
     "collapsed": false,
     "input": [
      "my_data = numpy.genfromtxt('H:/Stations.csv', delimiter=',',names=True, dtype=None)\n",
      "for latitude,longitude,k,elev in zip(my_data[\"Lat\"],my_data[\"Long\"],my_data[\"ID\"],my_data['elev'] ) :\n",
      "    #print(latitude,longitude,k)\n",
      "    pattern = re.compile(r'\\s+')\n",
      "    k = re.sub(pattern, '', k)\n",
      "    fname0='NLDAS_Data/'+'ET_NLDAS_'+str(k)+'.csv'\n",
      "    fname2='Station_Data/'+'AWS_hourly_'+str(k)+'.csv'\n",
      "    fname3='Merged/'+str(k)+'.csv'\n",
      "    \n",
      "    if os.path.exists(fname2):\n",
      "        reader1 = csv.reader(open(fname0))\n",
      "        csvList1 = list(reader1)\n",
      "        reader2 = csv.reader(open(fname2))\n",
      "        csvList2 = list(reader2)\n",
      "        result = [a+b for (a,b) in zip(csvList1, csvList2)]\n",
      "        writer = csv.writer(open(fname3, \"wb\"))\n",
      "        writer.writerows(result)\n",
      "        print ('Done!')\n",
      "    else :\n",
      "        print(\"Sorry, I can not find %s file.\" % fname2)"
     ],
     "language": "python",
     "metadata": {},
     "outputs": []
    }
   ],
   "metadata": {}
  }
 ]
}