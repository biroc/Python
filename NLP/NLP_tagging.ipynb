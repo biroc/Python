{
 "metadata": {
  "name": "",
  "signature": "sha256:b06538bd5d268ccb113398afbdb03ef8cc3b2491cd74e4b2144aff8b4e8d172d"
 },
 "nbformat": 3,
 "nbformat_minor": 0,
 "worksheets": [
  {
   "cells": [
    {
     "cell_type": "heading",
     "level": 2,
     "metadata": {
      "slideshow": {
       "slide_type": "-"
      }
     },
     "source": [
      "Script for Text dictonary tagging.\n",
      "\n",
      "This module demonstrates natural language processing (NLP) tasks such as disctonary  tagging"
     ]
    },
    {
     "cell_type": "heading",
     "level": 2,
     "metadata": {},
     "source": [
      "Author: Baburao Kamble\n",
      "    \n",
      "   \n"
     ]
    },
    {
     "cell_type": "heading",
     "level": 5,
     "metadata": {},
     "source": [
      " Input: sentence\n",
      "    NAME: name to identify from the Input string\n",
      "    NUM: number to identify from the Input string\n"
     ]
    },
    {
     "cell_type": "code",
     "collapsed": false,
     "input": [
      "import pprint, re\n",
      "class Tagged:\n",
      "    def __init__(self, Input, NAME, NUM):\n",
      "        self.Input = Input\n",
      "        self.NAME = NAME\n",
      "        self.NUM = NUM\n",
      "    def TagTest(self):\n",
      "        Input_L=self.Input.lower()\n",
      "        exactMatch_N = re.compile(r'%s' % '|'.join(NUM), flags=re.IGNORECASE)\n",
      "        num=exactMatch_N.findall(Input_L)\n",
      "        #replace NUMBER  \n",
      "        st1=Input_L; st2=Input_L\n",
      "        for nu in num:          \n",
      "            st1=st1.replace(nu, \"NUM\")\n",
      "            st2=st2.replace(nu,\"\",1)\n",
      "        #match NAME\n",
      "        exactMatch_N = re.compile(r'%s' % '|'.join(NAME), flags=re.IGNORECASE)\n",
      "        names=exactMatch_N.findall(Input_L)\n",
      "        #replace NAME\n",
      "        for name in names:            \n",
      "            st1=st1.replace(name, \"NAME\")\n",
      "            st2=st2.replace(name,\"\",1)              \n",
      "        st3=names+num\n",
      "        st3 = ','.join(st3)\n",
      "        # Output in dictonary \n",
      "        Output = {}\n",
      "        Output['Input']=str(Input) ;  Output['untagged']=str(st2); Output['tagged']=str(st3); Output['class tagged']=str(st2); \n",
      "        #print for code profiling \n",
      "        #print \"Input:\" + Input\n",
      "        #print \"untagged:\" + st2\n",
      "        #print \"tagged:\" + st3\n",
      "        #print \"class tagged:\" + st1\n",
      "        self.Output = Output\n",
      "        return Output"
     ],
     "language": "python",
     "metadata": {},
     "outputs": [],
     "prompt_number": 4
    },
    {
     "cell_type": "code",
     "collapsed": false,
     "input": [
      "Input=\"I'm Jack and I'm three years old\"\n",
      "NAME={'jack', 'jill'}\n",
      "NUM={'one','two','three','four','five','six','seven','eight','nine'}\n",
      "s = Tagged(Input, NAME, NUM)\n",
      "s.TagTest()\n"
     ],
     "language": "python",
     "metadata": {},
     "outputs": [
      {
       "metadata": {},
       "output_type": "pyout",
       "prompt_number": 5,
       "text": [
        "{'Input': \"I'm Jack and I'm three years old\",\n",
        " 'class tagged': \"i'm  and i'm  years old\",\n",
        " 'tagged': 'jack,three',\n",
        " 'untagged': \"i'm  and i'm  years old\"}"
       ]
      }
     ],
     "prompt_number": 5
    },
    {
     "cell_type": "code",
     "collapsed": false,
     "input": [],
     "language": "python",
     "metadata": {},
     "outputs": []
    }
   ],
   "metadata": {}
  }
 ]
}