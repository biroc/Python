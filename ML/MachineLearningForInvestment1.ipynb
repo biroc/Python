{
 "metadata": {
  "name": "",
  "signature": "sha256:d4c8c19bda66fc2611a5a803d66bd2dee6103fe9947c39582b089a9fe6fa1975"
 },
 "nbformat": 3,
 "nbformat_minor": 0,
 "worksheets": [
  {
   "cells": [
    {
     "cell_type": "code",
     "collapsed": false,
     "input": [
      "# Developer : Baburao Kamble (University of Nebraska-Lincoln)\n",
      "# Machine Learning algorithms focused on investment applications - I\n",
      "\n",
      "import datetime\n",
      "import pandas as pd\n",
      "import numpy as np\n",
      "from pandas.io.data import DataReader\n",
      "from sklearn.linear_model import LogisticRegression\n",
      "from sklearn.lda import LDA\n",
      "from sklearn.qda import QDA\n",
      "%matplotlib inline\n",
      "mpl.rc('figure', figsize=(8, 7))\n",
      "\n",
      "def TimeSeriesFinance(StockSymbol, start_date, end_date, lags=2):\n",
      "    \"\"\"Pandas DataFrame that stores the percentage returns of the adjusted closing value of a stock \"\"\"\n",
      "    # Obtain stock information from Yahoo Finance\n",
      "    TimeSeries = DataReader(StockSymbol, \"yahoo\", start_date-datetime.timedelta(days=365), end_date)\n",
      "    # Create the new lagged DataFrame\n",
      "    TimeSeriesLag = pd.DataFrame(index=TimeSeries.index)\n",
      "    TimeSeriesLag[\"Today\"] = TimeSeries[\"Adj Close\"]\n",
      "    TimeSeriesLag[\"Volume\"] = TimeSeries[\"Volume\"]\n",
      "    for i in xrange(0,lags):\n",
      "        TimeSeriesLag[\"Lag%s\" % str(i+1)] = TimeSeries[\"Adj Close\"].shift(i+1)\n",
      "    TimeSeriesReturn = pd.DataFrame(index=TimeSeriesLag.index)\n",
      "    TimeSeriesReturn[\"Volume\"] = TimeSeriesLag[\"Volume\"]\n",
      "    TimeSeriesReturn[\"Today\"] = TimeSeriesLag[\"Today\"].pct_change()*100.0\n",
      "\n",
      "    for i,x in enumerate(TimeSeriesReturn[\"Today\"]):\n",
      "        if (abs(x) < 0.0001):\n",
      "            TimeSeriesReturn[\"Today\"][i] = 0.0001\n",
      "    # Create the lagged percentage returns columns\n",
      "    for i in xrange(0,lags):\n",
      "        TimeSeriesReturn[\"Lag%s\" % str(i+1)] = TimeSeriesLag[\"Lag%s\" % str(i+1)].pct_change()*100.0\n",
      "    TimeSeriesReturn[\"Direction\"] = np.sign(TimeSeriesReturn[\"Today\"])\n",
      "    TimeSeriesReturn = TimeSeriesReturn[TimeSeriesReturn.index >= start_date]\n",
      "    return TimeSeriesReturn\n",
      "\n",
      "def ClassificationModel(name, model, Xtrain, Ytrain, Xtest, Prediction):\n",
      "    \"\"\"Machine Learning Approach ---- \n",
      "    linear methods for classification (LDA, logistic regression, Quadratic Discriminant Analysis) using the training data, then makes a \n",
      "    prediction and subsequent \"hit rate\" for the test data. Fit and predict the model on the training, and then test,\n",
      "    data and use it for the Prediction\n",
      "    \"\"\"\n",
      "    model.fit(Xtrain, Ytrain)\n",
      "    Prediction[name] = model.predict(Xtest)\n",
      "    Prediction[\"%s_Correct\" % name] = (1.0+Prediction[name]*Prediction[\"Actual\"])/2.0\n",
      "    hit_rate = np.mean(Prediction[\"%s_Correct\" % name])\n",
      "    print \"%s: %.3f\" % (name, hit_rate)\n"
     ],
     "language": "python",
     "metadata": {},
     "outputs": [],
     "prompt_number": 1
    },
    {
     "cell_type": "code",
     "collapsed": false,
     "input": [
      "if __name__ == \"__main__\":\n",
      "    \"\"\" Create a lagged series of the S&P500 US stock market index \"\"\"\n",
      "    #StockDF = TimeSeriesFinance(\"^GSPC\", datetime.datetime(2014,1,1), datetime.datetime(2015,2,12), lags=2)\n",
      "    #StockDF = TimeSeriesFinance(\"^IXIC\", datetime.datetime(2014,1,1), datetime.datetime(2015,2,12), lags=2)\n",
      "    ListOfStocks=['AAPL','MSFT','GOOG','AMZN','FB']\n",
      "    for Stock in ListOfStocks:\n",
      "        StockDF = TimeSeriesFinance(Stock, datetime.datetime(2014,1,1), datetime.datetime(2015,5,11), lags=3).dropna()\n",
      "        # Use the prior two days of returns as predictor values, with direction as the response\n",
      "        X = StockDF[[\"Lag1\",\"Lag2\"]]\n",
      "        Y = StockDF[\"Direction\"]\n",
      "        # The test data is split into two parts: Before and after 1st Jan 2005.\n",
      "        start_test = datetime.datetime(2015,1,1)\n",
      "        # Create training and test sets\n",
      "        Xtrain = X[X.index < start_test]\n",
      "        Xtest = X[X.index >= start_test]\n",
      "        Ytrain = Y[Y.index < start_test]\n",
      "        Ytest = Y[Y.index >= start_test]\n",
      "        # Create prediction DataFrame\n",
      "        Prediction = pd.DataFrame(index=Ytest.index)\n",
      "        Prediction[\"Actual\"] = Ytest\n",
      "\n",
      "        # Create and fit the three models    \n",
      "        print \"Hit Rates for:\" + Stock\n",
      "        models = [(\"LR\", LogisticRegression()), (\"LDA\", LDA()), (\"QDA\", QDA())]\n",
      "        \n",
      "        for m in models:\n",
      "            ClassificationModel(m[0], m[1], Xtrain, Ytrain, Xtest, Prediction)\n",
      "        print "
     ],
     "language": "python",
     "metadata": {},
     "outputs": [
      {
       "output_type": "stream",
       "stream": "stdout",
       "text": [
        "Hit Rates for:AAPL\n",
        "LR: 0.494\n",
        "LDA: 0.494\n",
        "QDA: 0.551\n",
        "\n",
        "Hit Rates for:MSFT"
       ]
      },
      {
       "output_type": "stream",
       "stream": "stdout",
       "text": [
        "\n",
        "LR: 0.472\n",
        "LDA: 0.472\n",
        "QDA: 0.472\n",
        "\n",
        "Hit Rates for:GOOG"
       ]
      },
      {
       "output_type": "stream",
       "stream": "stdout",
       "text": [
        "\n",
        "LR: 0.562\n",
        "LDA: 0.551\n",
        "QDA: 0.596\n",
        "\n",
        "Hit Rates for:AMZN"
       ]
      },
      {
       "output_type": "stream",
       "stream": "stdout",
       "text": [
        "\n",
        "LR: 0.573\n",
        "LDA: 0.562\n",
        "QDA: 0.461\n",
        "\n",
        "Hit Rates for:FB"
       ]
      },
      {
       "output_type": "stream",
       "stream": "stdout",
       "text": [
        "\n",
        "LR: 0.449\n",
        "LDA: 0.449\n",
        "QDA: 0.494\n",
        "\n"
       ]
      }
     ],
     "prompt_number": 18
    },
    {
     "cell_type": "code",
     "collapsed": false,
     "input": [],
     "language": "python",
     "metadata": {},
     "outputs": []
    }
   ],
   "metadata": {}
  }
 ]
}