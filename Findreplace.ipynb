{
 "metadata": {
  "name": "",
  "signature": "sha256:f09a1a8ab1222e54c270e9ff9fa384b63f8e21920cdbe505d5687366fa7c3984"
 },
 "nbformat": 3,
 "nbformat_minor": 0,
 "worksheets": [
  {
   "cells": [
    {
     "cell_type": "code",
     "collapsed": false,
     "input": [
      "# -----------------------------------------------------------------------------\n",
      "# Author: Baburao Kamble\n",
      "# Date: 1/5/2015\n",
      "# Purpose: Find and replace Batch processing for Thousands of Files \n",
      "# -----------------------------------------------------------------------------"
     ],
     "language": "python",
     "metadata": {},
     "outputs": []
    },
    {
     "cell_type": "code",
     "collapsed": false,
     "input": [
      "import os\n",
      "import numpy, os, re\n",
      "    \n",
      "from itertools import izip\n",
      "import csv\n",
      "\n",
      "os.chdir('H:/Data')\n",
      "#os.chdir('/Users/HIS/Desktop/Data/')\n",
      "#function to replace the words \n",
      "#The method replace() returns a copy of the string in \n",
      "# which the occurrences of old have been replaced with new, optionally restricting the number of replacements to max.\n",
      "\n",
      "def replace_all(text, dic):\n",
      "    for i, j in dic.iteritems():\n",
      "        text = text.replace(i, j)\n",
      "    return text\n",
      "#Find the pattern \n",
      "f_dic = {'A20':'20'}\n",
      "s_dic = {'00_0':''}\n",
      "\n",
      "my_data = numpy.genfromtxt('H:/stations.csv', delimiter=',',names=True, dtype=None)\n",
      "for latitude,longitude,k,elev in zip(my_data[\"Lat\"],my_data[\"Long\"],my_data[\"ID\"],my_data['elev'] ) :\n",
      "    #print(latitude,longitude,k)\n",
      "    pattern = re.compile(r'\\s+')\n",
      "    k = re.sub(pattern, '', k)\n",
      "    fname='NLDAS_'+str(k)+'.csv'\n",
      "    #Input file \n",
      "    fname0='H:/Input/'+fname\n",
      "    #Output file in different folder\n",
      "    fname2='H:/Output/'+fname\n",
      "    if os.path.exists(fname0):\n",
      "        with open(fname0,'r') as f:\n",
      "            text=f.read()\n",
      "            with open(fname2,'w') as w:\n",
      "                text=replace_all(text,f_dic)\n",
      "                text=replace_all(text,s_dic)\n",
      "                #print text\n",
      "                w.write(text)\n",
      "        print ('Done!')\n",
      "    else :\n",
      "        print(\"Sorry, I can not find %s file.\" % fname)"
     ],
     "language": "python",
     "metadata": {},
     "outputs": []
    }
   ],
   "metadata": {}
  }
 ]
}